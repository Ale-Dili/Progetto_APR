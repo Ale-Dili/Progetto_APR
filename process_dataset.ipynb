{
 "cells": [
  {
   "cell_type": "code",
   "execution_count": 8,
   "metadata": {},
   "outputs": [],
   "source": [
    "import librosa\n",
    "import librosa.display\n",
    "import numpy as np\n",
    "import os\n",
    "import matplotlib.pyplot as plt\n",
    "from sklearn.model_selection import train_test_split\n",
    "import pandas as pd"
   ]
  },
  {
   "cell_type": "markdown",
   "metadata": {},
   "source": [
    "# Settings"
   ]
  },
  {
   "cell_type": "code",
   "execution_count": 32,
   "metadata": {},
   "outputs": [],
   "source": [
    "# Calm which is present only in ravdess is ignored due to be too similiar to Neutral\n",
    "# merging may cause imbalance\n",
    "IGNORE_CALM = True\n",
    "\n",
    "RANDOM_STATE = 44 \n",
    "\n",
    "TRAIN_SIZE = 0.8\n",
    "TEST_SIZE = 0.1\n",
    "VAL_SIZE = 0.1\n",
    "\n",
    "\n",
    "#raise error if sum of sizes is not 1\n",
    "if abs(TRAIN_SIZE + TEST_SIZE + VAL_SIZE - 1) > 1e-6:\n",
    "    raise ValueError(f\"TRAIN_SIZE + TEST_SIZE + VAL_SIZE must be equal to 1, got: {TRAIN_SIZE + TEST_SIZE + VAL_SIZE}\")\n",
    "\n"
   ]
  },
  {
   "cell_type": "markdown",
   "metadata": {},
   "source": [
    "# Emotion labeling"
   ]
  },
  {
   "cell_type": "code",
   "execution_count": 10,
   "metadata": {},
   "outputs": [],
   "source": [
    "\n",
    "\n",
    "#Using TESS and SAVEE labeling convention\n",
    "emotion_dict={\n",
    "    0: 'neutral',\n",
    "    1: 'happy',\n",
    "    2: 'sad',\n",
    "    3: 'angry',\n",
    "    4: 'fearful',\n",
    "    5: 'disgusted',\n",
    "    6: 'surprised'\n",
    "}"
   ]
  },
  {
   "cell_type": "markdown",
   "metadata": {},
   "source": [
    "# Data loading"
   ]
  },
  {
   "cell_type": "code",
   "execution_count": 11,
   "metadata": {},
   "outputs": [],
   "source": [
    "def load_dataset(dataset, df, ignore_calm=True, remove_duplicates=True):\n",
    "    \"\"\"\n",
    "    Load a dataset in the df, using TESS labeling.\n",
    "\n",
    "    Supported datasets: RAVDESS, CREMA-D, TESS, SAVEE\n",
    "    \n",
    "    Args:\n",
    "        dataset: name of the dataset, assuming is in data/Dataset/\n",
    "        df (pd.DataFrame): emotion, file_path\n",
    "     \n",
    "        \n",
    "    Returns:\n",
    "        pd.DataFrame: update dataframe\n",
    "    \"\"\"\n",
    "    dataset_path = 'data/Dataset/'+dataset\n",
    "    for root, _, files in os.walk(dataset_path):\n",
    "        for file in files:\n",
    "            if file.endswith(\".wav\"): \n",
    "                file_path = os.path.join(root, file)\n",
    "                emotion = -1\n",
    "                #RAVDESS\n",
    "                if dataset == 'RAVDESS':\n",
    "                    emotion = int(file.split(\"-\")[2])-1 #to have 0-6 range\n",
    "                    repetition = int(file.split(\"-\")[5])\n",
    "                    if remove_duplicates:\n",
    "                        if repetition == 2:\n",
    "                            continue\n",
    "                            \n",
    "                    if ignore_calm:\n",
    "                        if emotion == 1:\n",
    "                            continue\n",
    "                        if emotion >= 2: \n",
    "                            emotion-=1\n",
    "                #CREMA            \n",
    "                elif dataset == 'CREMA-D':\n",
    "                    part=file.split('_')\n",
    "                    if part[2] == 'SAD':\n",
    "                        emotion = 2\n",
    "                    elif part[2] == 'ANG':\n",
    "                        emotion = 3\n",
    "                    elif part[2] == 'DIS':\n",
    "                        emotion = 5\n",
    "                    elif part[2] == 'FEA':\n",
    "                        emotion = 4\n",
    "                    elif part[2] == 'HAP':\n",
    "                        emotion = 1\n",
    "                    elif part[2] == 'NEU':\n",
    "                        emotion = 0\n",
    "                    else:\n",
    "                        continue\n",
    "                #TESS   \n",
    "                elif dataset == 'TESS':\n",
    "                    part=file.split('_')\n",
    "                    part[2] = part[2].removesuffix('.wav')\n",
    "                    if part[2] == 'angry':\n",
    "                        emotion = 3\n",
    "                    elif part[2] == 'disgust':\n",
    "                        emotion = 5\n",
    "                    elif part[2] == 'fear':\n",
    "                        emotion = 4\n",
    "                    elif part[2] == 'happy':\n",
    "                        emotion = 1\n",
    "                    elif part[2] == 'neutral':\n",
    "                        emotion = 0\n",
    "                    elif part[2] == 'ps':\n",
    "                        emotion = 6\n",
    "                    elif part[2] == 'sad':\n",
    "                        emotion = 2\n",
    "                #SAVEE        \n",
    "                elif dataset == 'SAVEE':\n",
    "                    ele = file.split('_')[1]\n",
    "                    part = ele[:-6]\n",
    "                    \n",
    "                    if part == 'a':\n",
    "                        emotion = 3\n",
    "                    elif part == 'd':\n",
    "                        emotion = 5\n",
    "                    elif part == 'f':\n",
    "                        emotion = 4\n",
    "                    elif part == 'h':\n",
    "                        emotion = 1\n",
    "                    elif part == 'n':\n",
    "                        emotion = 0\n",
    "                    elif part == 'sa':\n",
    "                        emotion = 6\n",
    "                    elif part == 'su':\n",
    "                        emotion = 2\n",
    "                     \n",
    "                    \n",
    "                df.loc[len(df)] = [emotion, file_path]\n",
    "    return df\n",
    "\n",
    "def plot_class_distribution(y):\n",
    "    #plot the class distribution\n",
    "    plt.hist(y, bins=range(8), rwidth=0.8, align='left', color='skyblue')\n",
    "    plt.xticks(range(8))\n",
    "    plt.xlabel('Emotion')\n",
    "    plt.ylabel('Count')\n",
    "    plt.title('Class Distribution')\n",
    "    plt.show()"
   ]
  },
  {
   "cell_type": "code",
   "execution_count": 12,
   "metadata": {},
   "outputs": [
    {
     "name": "stdout",
     "output_type": "stream",
     "text": [
      "      emotion                                               path\n",
      "0           3  data/Dataset/RAVDESS/Actor_16/03-01-05-01-02-0...\n",
      "1           3  data/Dataset/RAVDESS/Actor_16/03-01-05-02-01-0...\n",
      "2           5  data/Dataset/RAVDESS/Actor_16/03-01-07-01-01-0...\n",
      "3           5  data/Dataset/RAVDESS/Actor_16/03-01-07-02-02-0...\n",
      "4           6  data/Dataset/RAVDESS/Actor_16/03-01-08-02-02-0...\n",
      "...       ...                                                ...\n",
      "8541        3                      data/Dataset/SAVEE/JE_a01.wav\n",
      "8542        3                      data/Dataset/SAVEE/JE_a15.wav\n",
      "8543        0                      data/Dataset/SAVEE/DC_n22.wav\n",
      "8544        2                     data/Dataset/SAVEE/DC_su04.wav\n",
      "8545        2                     data/Dataset/SAVEE/DC_su10.wav\n",
      "\n",
      "[8546 rows x 2 columns]\n"
     ]
    },
    {
     "data": {
      "image/png": "[encoded data removed]",
      "text/plain": [
       "<Figure size 640x480 with 1 Axes>"
      ]
     },
     "metadata": {},
     "output_type": "display_data"
    }
   ],
   "source": [
    "#Folder names\n",
    "Ravdess = \"RAVDESS\"\n",
    "Crema = \"CREMA-D\"\n",
    "Tess = \"TESS\"\n",
    "Savee = \"SAVEE\"\n",
    "\n",
    "   \n",
    "df = pd.DataFrame(columns=[\"emotion\", \"path\"])\n",
    "\n",
    "df = load_dataset(dataset=Ravdess, df = df, remove_duplicates=True)\n",
    "df = load_dataset(dataset=Crema, df = df)\n",
    "#df = load_dataset(dataset=Tess, df = df)\n",
    "df = load_dataset(dataset=Savee, df = df)\n",
    "\n",
    "print(df)\n",
    "\n",
    "plot_class_distribution(df['emotion'])"
   ]
  },
  {
   "cell_type": "markdown",
   "metadata": {},
   "source": [
    "# Train test split"
   ]
  },
  {
   "cell_type": "code",
   "execution_count": 33,
   "metadata": {},
   "outputs": [
    {
     "name": "stdout",
     "output_type": "stream",
     "text": [
      "Total:  8546\n",
      "Train:  6729\n",
      "Val:  962\n",
      "Test:  855\n"
     ]
    }
   ],
   "source": [
    "train_indices, test_indices = train_test_split(\n",
    "    df.index, \n",
    "    test_size=TEST_SIZE, \n",
    "    random_state=RANDOM_STATE\n",
    ")\n",
    "\n",
    "train_indices, val_indices = train_test_split(\n",
    "    train_indices, \n",
    "    test_size=VAL_SIZE/TRAIN_SIZE,  # 0.125* 0.8 = 10% \n",
    "    random_state=RANDOM_STATE\n",
    ")\n",
    "\n",
    "\n",
    "print(\"Total: \", len(df))\n",
    "print(\"Train: \", len(train_indices))\n",
    "print(\"Val: \", len(val_indices))\n",
    "print(\"Test: \", len(test_indices))"
   ]
  },
  {
   "cell_type": "markdown",
   "metadata": {},
   "source": [
    "# Serialize data"
   ]
  },
  {
   "cell_type": "code",
   "execution_count": 37,
   "metadata": {},
   "outputs": [],
   "source": [
    "# save the indices\n",
    "os.makedirs(\"data/path\", exist_ok=True)\n",
    "df.iloc[train_indices].to_csv(\"data/path/train.csv\", index=False)\n",
    "df.iloc[val_indices].to_csv(\"data/path/val.csv\", index=False)\n",
    "df.iloc[test_indices].to_csv(\"data/path/test.csv\", index=False)\n"
   ]
  }
 ],
 "metadata": {
  "kernelspec": {
   "display_name": ".venv",
   "language": "python",
   "name": "python3"
  },
  "language_info": {
   "codemirror_mode": {
    "name": "ipython",
    "version": 3
   },
   "file_extension": ".py",
   "mimetype": "text/x-python",
   "name": "python",
   "nbconvert_exporter": "python",
   "pygments_lexer": "ipython3",
   "version": "3.11.9"
  }
 },
 "nbformat": 4,
 "nbformat_minor": 2
}
