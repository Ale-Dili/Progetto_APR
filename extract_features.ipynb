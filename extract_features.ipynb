{
 "cells": [
  {
   "cell_type": "code",
   "execution_count": 50,
   "metadata": {},
   "outputs": [],
   "source": [
    "import librosa\n",
    "import librosa.display\n",
    "import numpy as np\n",
    "import os\n",
    "import matplotlib.pyplot as plt\n",
    "import pandas as pd\n",
    "\n",
    "\n",
    "import parselmouth\n",
    "from parselmouth.praat import call\n",
    "\n",
    "\n",
    "\n",
    "from tqdm import tqdm"
   ]
  },
  {
   "cell_type": "markdown",
   "metadata": {},
   "source": [
    "# Load paths"
   ]
  },
  {
   "cell_type": "code",
   "execution_count": 51,
   "metadata": {},
   "outputs": [
    {
     "name": "stdout",
     "output_type": "stream",
     "text": [
      "Train:  (378, 2)\n",
      "Test:  (48, 2)\n",
      "Val:  (54, 2)\n"
     ]
    }
   ],
   "source": [
    "train_df = pd.read_csv(\"data/path/train.csv\")\n",
    "test_df = pd.read_csv(\"data/path/test.csv\")\n",
    "val_df = pd.read_csv(\"data/path/val.csv\")\n",
    "\n",
    "print(\"Train: \", train_df.shape)\n",
    "print(\"Test: \", test_df.shape)\n",
    "print(\"Val: \", val_df.shape)\n"
   ]
  },
  {
   "cell_type": "markdown",
   "metadata": {},
   "source": [
    "# Extract features"
   ]
  },
  {
   "cell_type": "code",
   "execution_count": 69,
   "metadata": {},
   "outputs": [],
   "source": [
    "def create_dataset(df, sr=22050, augment_data=False):\n",
    "    \"\"\"\n",
    "    Extract feature \n",
    "    \n",
    "    Args:\n",
    "        df: dataframe with path of file and associated emotion\n",
    "        sr: sampling rate\n",
    "     \n",
    "        \n",
    "    Returns:\n",
    "        (X, :Extracted feature df\n",
    "        y   :Associated label array\n",
    "        )\n",
    "    \"\"\"\n",
    "\n",
    "\n",
    "    y = []  # Labels (emotions)\n",
    "    features = {\n",
    "            'pitch_median': [],\n",
    "            'pitch_mean': [],\n",
    "            'pitch_std': [],\n",
    "            'local_jitter': [],\n",
    "            'local_shimmer': [],\n",
    "            'hnr': [],\n",
    "            'energy_mean': [],\n",
    "            'energy_std': [],\n",
    "            'zcr_mean': [],\n",
    "            'zcr_std': [],\n",
    "            'mfcc_mean_0': [],\n",
    "            'mfcc_mean_1': [],\n",
    "            'mfcc_mean_2': [],\n",
    "            'mfcc_mean_3': [],\n",
    "            'mfcc_mean_4': [],\n",
    "            'mfcc_mean_5': [],\n",
    "            'mfcc_mean_6': [],\n",
    "            'mfcc_mean_7': [],\n",
    "            'mfcc_mean_8': [],\n",
    "            'mfcc_mean_9': [],\n",
    "            'mfcc_mean_10': [],\n",
    "            'mfcc_mean_11': [],\n",
    "            'mfcc_mean_12': [],\n",
    "            'mfcc_std_0': [],\n",
    "            'mfcc_std_1': [],\n",
    "            'mfcc_std_2': [],\n",
    "            'mfcc_std_3': [],\n",
    "            'mfcc_std_4': [],\n",
    "            'mfcc_std_5': [],\n",
    "            'mfcc_std_6': [],\n",
    "            'mfcc_std_7': [],\n",
    "            'mfcc_std_8': [],\n",
    "            'mfcc_std_9': [],\n",
    "            'mfcc_std_10': [],\n",
    "            'mfcc_std_11': [],\n",
    "            'mfcc_std_12': []\n",
    "        }\n",
    "\n",
    "\n",
    "    for row in tqdm(df.itertuples(index=False), total=len(df)):\n",
    "\n",
    "        path = row.path\n",
    "        emotion = row.emotion\n",
    "        audio, sr = librosa.load(path, sr=None)  # Usa sr=None per mantenere la frequenza originale\n",
    "        \n",
    "        audio_array = [] #Store orignal audio, and augmented audios\n",
    "        audio_array.append(audio)\n",
    "\n",
    "        \n",
    "        if augment_data:\n",
    "            if emotion == 6:\n",
    "\n",
    "                #DATA AUGMENTATION\n",
    "                #speed up\n",
    "                audio_stretched = librosa.effects.time_stretch(y=audio, rate=1.1)  # speend up by 10%\n",
    "                #pitch up\n",
    "                audio_pitched = librosa.effects.pitch_shift(y=audio, sr=sr, n_steps=2)  \n",
    "                # 0.5 time shift\n",
    "                shift = int(0.5 * sr) \n",
    "                audio_shifted = np.roll(audio, shift)\n",
    "                # noise injection\n",
    "                noise = np.random.normal(0, 0.05, len(audio))\n",
    "                audio_noisy = audio + noise \n",
    "\n",
    "                #audio_array.append(audio_stretched)\n",
    "                audio_array.append(audio_pitched)\n",
    "                #audio_array.append(audio_shifted)\n",
    "                audio_array.append(audio_noisy)\n",
    "        \n",
    "        # Extract features\n",
    "        for audio in audio_array:\n",
    "            y.append(emotion)\n",
    "            sound = parselmouth.Sound(values=audio, sampling_frequency=sr)\n",
    "\n",
    "            # PITCH\n",
    "            f0, voiced_flag, voiced_prob = librosa.pyin(audio, fmin=50, fmax=500)\n",
    "            if np.any(voiced_flag):\n",
    "                features['pitch_median'].append(np.median(f0[voiced_flag]))\n",
    "                features['pitch_mean'].append(np.mean(f0[voiced_flag]))\n",
    "                features['pitch_std'].append(np.std(f0[voiced_flag]))\n",
    "            else:\n",
    "                features['pitch_median'].append(0)\n",
    "                features['pitch_mean'].append(0)\n",
    "                features['pitch_std'].append(0)\n",
    "\n",
    "            # JITTER\n",
    "            pointProcess = call(sound, \"To PointProcess (periodic, cc)\", 50, 500)\n",
    "            features['local_jitter'].append(call(pointProcess, \"Get jitter (local)\", 0, 0, 0.0001, 0.02, 1.3))\n",
    "\n",
    "            # SHIMMER\n",
    "            features['local_shimmer'].append(call([sound, pointProcess], \"Get shimmer (local)\", 0, 0, 0.0001, 0.02, 1.3, 1.6))\n",
    "\n",
    "            # HNR \n",
    "            harmonicity = call(sound, \"To Harmonicity (cc)\", 0.01, 75, 0.1, 1.0)\n",
    "            features['hnr'].append(call(harmonicity, \"Get mean\", 0, 0))\n",
    "\n",
    "            # ENERGY\n",
    "            rms = librosa.feature.rms(y=audio)[0]\n",
    "            features['energy_mean'].append(np.mean(rms))\n",
    "            features['energy_std'].append(np.std(rms))\n",
    "\n",
    "            # ZCR\n",
    "            zcr = librosa.feature.zero_crossing_rate(y=audio)[0]\n",
    "            features['zcr_mean'].append(np.mean(zcr))\n",
    "            features['zcr_std'].append(np.std(zcr))\n",
    "\n",
    "            # MFCC\n",
    "            mfccs = librosa.feature.mfcc(y=audio, sr=sr, n_mfcc=13)\n",
    "            for i in range(13):\n",
    "                features[f'mfcc_mean_{i}'].append(np.mean(mfccs[i, :]))\n",
    "                features[f'mfcc_std_{i}'].append(np.std(mfccs[i, :]))\n",
    "         \n",
    "\n",
    "    X = pd.DataFrame(features)  \n",
    "    y = np.array(y) \n",
    "    return X, y\n",
    "  "
   ]
  },
  {
   "cell_type": "code",
   "execution_count": 70,
   "metadata": {},
   "outputs": [
    {
     "name": "stderr",
     "output_type": "stream",
     "text": [
      "100%|██████████| 10/10 [00:06<00:00,  1.48it/s]\n",
      "100%|██████████| 10/10 [00:06<00:00,  1.49it/s]\n",
      "100%|██████████| 10/10 [00:06<00:00,  1.49it/s]"
     ]
    },
    {
     "name": "stdout",
     "output_type": "stream",
     "text": [
      "Train:  (10, 36)\n",
      "Val:  (10, 36)\n",
      "Test:  (10, 36)\n"
     ]
    },
    {
     "name": "stderr",
     "output_type": "stream",
     "text": [
      "\n"
     ]
    }
   ],
   "source": [
    "X_train, y_train = create_dataset(train_df.iloc[:10], augment_data=False)\n",
    "X_val, y_val = create_dataset(val_df[:10], augment_data=False)\n",
    "X_test, y_test = create_dataset(test_df[:10], augment_data=False)\n",
    "\n",
    "print(\"Train: \", X_train.shape)\n",
    "print(\"Val: \", X_val.shape)\n",
    "print(\"Test: \", X_test.shape)"
   ]
  },
  {
   "cell_type": "markdown",
   "metadata": {},
   "source": [
    "# Plot"
   ]
  },
  {
   "cell_type": "code",
   "execution_count": 72,
   "metadata": {},
   "outputs": [
    {
     "data": {
      "image/png": "[encoded data removed]",
      "text/plain": [
       "<Figure size 1500x400 with 3 Axes>"
      ]
     },
     "metadata": {},
     "output_type": "display_data"
    }
   ],
   "source": [
    "fig, axs = plt.subplots(1, 3, figsize=(15, 4), sharex=True, sharey=True)\n",
    "\n",
    "axs[0].hist(y_train, bins=range(8), rwidth=0.8, align='left', color='skyblue')\n",
    "axs[0].set_title('Train Class Distribution')\n",
    "axs[0].set_xlabel('Emotion')\n",
    "axs[0].set_ylabel('Count')\n",
    "axs[0].set_xticks(range(8))\n",
    "\n",
    "axs[1].hist(y_val, bins=range(8), rwidth=0.8, align='left', color='skyblue')\n",
    "axs[1].set_title('Validation Class Distribution')\n",
    "axs[1].set_xlabel('Emotion')\n",
    "axs[1].set_xticks(range(8))\n",
    "\n",
    "axs[2].hist(y_test, bins=range(8), rwidth=0.8, align='left', color='skyblue')\n",
    "axs[2].set_title('Test Class Distribution')\n",
    "axs[2].set_xlabel('Emotion')\n",
    "axs[2].set_xticks(range(8))\n",
    "\n",
    "plt.suptitle('Class Distribution for Train, Validation, and Test')\n",
    "plt.tight_layout(rect=[0, 0, 1, 0.95])\n",
    "plt.show()"
   ]
  },
  {
   "cell_type": "markdown",
   "metadata": {},
   "source": [
    "# Save dataset"
   ]
  },
  {
   "cell_type": "code",
   "execution_count": 73,
   "metadata": {},
   "outputs": [],
   "source": [
    "def save_dataset(X_train, X_val, X_test, y_train, y_val, y_test, output_dir=\"data/processed_data_features\"):\n",
    "    os.makedirs(output_dir, exist_ok=True)\n",
    "    np.save(os.path.join(output_dir, \"X_train.npy\"), X_train)\n",
    "    np.save(os.path.join(output_dir, \"X_val.npy\"), X_val)\n",
    "    np.save(os.path.join(output_dir, \"X_test.npy\"), X_test)\n",
    "    np.save(os.path.join(output_dir, \"y_train.npy\"), y_train)\n",
    "    np.save(os.path.join(output_dir, \"y_val.npy\"), y_val)\n",
    "    np.save(os.path.join(output_dir, \"y_test.npy\"), y_test)\n",
    "\n",
    "save_dataset(X_train, X_val, X_test, y_train, y_val, y_test)"
   ]
  }
 ],
 "metadata": {
  "kernelspec": {
   "display_name": ".venv",
   "language": "python",
   "name": "python3"
  },
  "language_info": {
   "codemirror_mode": {
    "name": "ipython",
    "version": 3
   },
   "file_extension": ".py",
   "mimetype": "text/x-python",
   "name": "python",
   "nbconvert_exporter": "python",
   "pygments_lexer": "ipython3",
   "version": "3.11.9"
  }
 },
 "nbformat": 4,
 "nbformat_minor": 2
}
