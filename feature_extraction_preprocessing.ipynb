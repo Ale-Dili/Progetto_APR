{
 "cells": [
  {
   "cell_type": "code",
   "execution_count": 52,
   "metadata": {},
   "outputs": [],
   "source": [
    "import librosa\n",
    "import librosa.display\n",
    "import numpy as np\n",
    "import os\n",
    "import matplotlib.pyplot as plt\n",
    "from sklearn.model_selection import train_test_split\n",
    "from sklearn.preprocessing import MinMaxScaler\n",
    "\n",
    "import pandas as pd\n",
    "import IPython\n",
    "from tqdm import tqdm"
   ]
  },
  {
   "cell_type": "code",
   "execution_count": 53,
   "metadata": {},
   "outputs": [],
   "source": [
    "# Calm which is present only in ravdess is ignored due to be too similiar to Neutral\n",
    "# merging may cause imbalance\n",
    "IGNORE_CALM = True\n",
    "\n",
    "#Using TESS and SAVEE labeling convention\n",
    "emotion_dict={\n",
    "    0: 'neutral',\n",
    "    1: 'happy',\n",
    "    2: 'sad',\n",
    "    3: 'angry',\n",
    "    4: 'fearful',\n",
    "    5: 'disgusted',\n",
    "    6: 'surprised'\n",
    "}\n",
    "\n"
   ]
  },
  {
   "cell_type": "code",
   "execution_count": 54,
   "metadata": {},
   "outputs": [],
   "source": [
    "def load_dataset(dataset, df, ignore_calm=True):\n",
    "    \"\"\"\n",
    "    Load a dataset in the df, using TESS labeling\n",
    "    \n",
    "    Args:\n",
    "        dataset: name of the dataset, assuming is in Dataset/\n",
    "        df (pd.DataFrame): emotion, file_path\n",
    "     \n",
    "        \n",
    "    Returns:\n",
    "        pd.DataFrame: update dataframe\n",
    "    \"\"\"\n",
    "    dataset_path = 'Dataset/'+dataset\n",
    "    for root, _, files in os.walk(dataset_path):\n",
    "        for file in files:\n",
    "            if file.endswith(\".wav\"): \n",
    "                file_path = os.path.join(root, file)\n",
    "                emotion = -1\n",
    "                #RAVDESS\n",
    "                if dataset == 'RAVDESS':\n",
    "                    emotion = int(file.split(\"-\")[2])-1 #to have 0-6 range\n",
    "                    if ignore_calm:\n",
    "                        if emotion == 1:\n",
    "                            continue\n",
    "                        if emotion >= 2: \n",
    "                            emotion-=1\n",
    "                #CREMA            \n",
    "                elif dataset == 'CREMA-D':\n",
    "                    part=file.split('_')\n",
    "                    if part[2] == 'SAD':\n",
    "                        emotion = 2\n",
    "                    elif part[2] == 'ANG':\n",
    "                        emotion = 3\n",
    "                    elif part[2] == 'DIS':\n",
    "                        emotion = 5\n",
    "                    elif part[2] == 'FEA':\n",
    "                        emotion = 4\n",
    "                    elif part[2] == 'HAP':\n",
    "                        emotion = 1\n",
    "                    elif part[2] == 'NEU':\n",
    "                        emotion = 0\n",
    "                    else:\n",
    "                        continue\n",
    "                #TESS   \n",
    "                elif dataset == 'TESS':\n",
    "                    part=file.split('_')\n",
    "                    part[2] = part[2].removesuffix('.wav')\n",
    "                    if part[2] == 'angry':\n",
    "                        emotion = 3\n",
    "                    elif part[2] == 'disgust':\n",
    "                        emotion = 5\n",
    "                    elif part[2] == 'fear':\n",
    "                        emotion = 4\n",
    "                    elif part[2] == 'happy':\n",
    "                        emotion = 1\n",
    "                    elif part[2] == 'neutral':\n",
    "                        emotion = 0\n",
    "                    elif part[2] == 'ps':\n",
    "                        emotion = 6\n",
    "                    elif part[2] == 'sad':\n",
    "                        emotion = 2\n",
    "                #SAVEE        \n",
    "                elif dataset == 'SAVEE':\n",
    "                    ele = file.split('_')[1]\n",
    "                    part = ele[:-6]\n",
    "                    \n",
    "                    if part == 'a':\n",
    "                        emotion = 3\n",
    "                    elif part == 'd':\n",
    "                        emotion = 5\n",
    "                    elif part == 'f':\n",
    "                        emotion = 4\n",
    "                    elif part == 'h':\n",
    "                        emotion = 1\n",
    "                    elif part == 'n':\n",
    "                        emotion = 0\n",
    "                    elif part == 'sa':\n",
    "                        emotion = 6\n",
    "                    elif part == 'su':\n",
    "                        emotion = 2\n",
    "                     \n",
    "                    \n",
    "                df.loc[len(df)] = [emotion, file_path]\n",
    "    return df\n"
   ]
  },
  {
   "cell_type": "code",
   "execution_count": 55,
   "metadata": {},
   "outputs": [],
   "source": [
    "#Path to data\n",
    "Ravdess = \"RAVDESS\"\n",
    "Crema = \"CREMA-D\"\n",
    "Tess = \"TESS\"\n",
    "Savee = \"SAVEE\"\n",
    "\n",
    "   \n",
    "df = pd.DataFrame(columns=[\"emotion\", \"path\"])\n",
    "\n",
    "df = load_dataset(dataset=Ravdess, df = df)\n",
    "#df = load_dataset(dataset=Crema, df = df)\n",
    "#df = load_dataset(dataset=Tess, df = df)\n",
    "#df = load_dataset(dataset=Savee, df = df)\n"
   ]
  },
  {
   "cell_type": "code",
   "execution_count": 56,
   "metadata": {},
   "outputs": [
    {
     "data": {
      "image/png": "[encoded data removed]",
      "text/plain": [
       "<Figure size 640x480 with 1 Axes>"
      ]
     },
     "metadata": {},
     "output_type": "display_data"
    }
   ],
   "source": [
    "def plot_class_distribution(y):\n",
    "    #plot the class distribution\n",
    "    plt.hist(y, bins=range(8), rwidth=0.8, align='left', color='skyblue')\n",
    "    plt.xticks(range(8))\n",
    "    plt.xlabel('Emotion')\n",
    "    plt.ylabel('Count')\n",
    "    plt.title('Class Distribution')\n",
    "    plt.show()\n",
    "def plot_spectogram(spec,sr = 22050):\n",
    "    plt.figure(figsize=(10, 4))\n",
    "    librosa.display.specshow(spec, sr=sr, hop_length=512, x_axis='time', y_axis='mel', cmap='viridis')\n",
    "    plt.colorbar(format='%+2.0f dB')\n",
    "    plt.title('Spectrogram')\n",
    "    plt.tight_layout()\n",
    "    plt.show()\n",
    "plot_class_distribution(df['emotion'])"
   ]
  },
  {
   "cell_type": "markdown",
   "metadata": {},
   "source": [
    "# Extract features"
   ]
  },
  {
   "cell_type": "code",
   "execution_count": 57,
   "metadata": {},
   "outputs": [],
   "source": [
    "def extract_features(audio, sr):\n",
    "    features = {}\n",
    "    \n",
    "    # Prosodiche\n",
    "    f0, voiced_flag, voiced_probs = librosa.pyin(audio, fmin=50, fmax=500)\n",
    "    features[\"pitch_mean\"] = np.nanmean(f0)\n",
    "    features[\"pitch_std\"] = np.nanstd(f0)\n",
    "    features[\"energy_mean\"] = np.mean(librosa.feature.rms(y=audio))\n",
    "    features[\"energy_std\"] = np.std(librosa.feature.rms(y=audio))\n",
    "    features[\"zcr_mean\"] = np.mean(librosa.feature.zero_crossing_rate(y=audio))\n",
    "    \n",
    "    # Spettrali\n",
    "    mfccs = librosa.feature.mfcc(y=audio, sr=sr, n_mfcc=13)\n",
    "    for i in range(13):\n",
    "        features[f\"mfcc_{i+1}_mean\"] = np.mean(mfccs[i])\n",
    "        features[f\"mfcc_{i+1}_std\"] = np.std(mfccs[i])\n",
    "    \n",
    "    chroma = librosa.feature.chroma_stft(y=audio, sr=sr)\n",
    "    features[\"chroma_mean\"] = np.mean(chroma)\n",
    "    features[\"chroma_std\"] = np.std(chroma)\n",
    "    \n",
    "    spec_centroid = librosa.feature.spectral_centroid(y=audio, sr=sr)\n",
    "    features[\"spec_centroid_mean\"] = np.mean(spec_centroid)\n",
    "    features[\"spec_centroid_std\"] = np.std(spec_centroid)\n",
    "    \n",
    "    spec_bandwidth = librosa.feature.spectral_bandwidth(y=audio, sr=sr)\n",
    "    features[\"spec_bandwidth_mean\"] = np.mean(spec_bandwidth)\n",
    "    features[\"spec_bandwidth_std\"] = np.std(spec_bandwidth)\n",
    "    \n",
    "    spec_contrast = librosa.feature.spectral_contrast(y=audio, sr=sr)\n",
    "    features[\"spec_contrast_mean\"] = np.mean(spec_contrast)\n",
    "    features[\"spec_contrast_std\"] = np.std(spec_contrast)\n",
    "    \n",
    "    spec_rolloff = librosa.feature.spectral_rolloff(y=audio, sr=sr)\n",
    "    features[\"spec_rolloff_mean\"] = np.mean(spec_rolloff)\n",
    "    features[\"spec_rolloff_std\"] = np.std(spec_rolloff)\n",
    "    \n",
    "    return features"
   ]
  },
  {
   "cell_type": "code",
   "execution_count": null,
   "metadata": {},
   "outputs": [],
   "source": [
    "# Creazione DataFrame di training\n",
    "train_data = []\n",
    "for row in tqdm(df.itertuples(index=False), total=df.shape[0]):\n",
    "    path = row.path\n",
    "    emotion = row.emotion\n",
    "    audio, sr = librosa.load(path, sr=None)  # Usa sr=None per mantenere la frequenza originale\n",
    "    \n",
    "    features = extract_features(audio, sr)\n",
    "    features[\"emotion\"] = emotion  # Aggiungi etichetta emozionale\n",
    "    \n",
    "    train_data.append(features)\n",
    "\n",
    "# Creazione DataFrame finale\n",
    "train_df = pd.DataFrame(train_data)\n",
    "print(train_df.head())\n"
   ]
  },
  {
   "cell_type": "markdown",
   "metadata": {},
   "source": [
    "## Train test split"
   ]
  },
  {
   "cell_type": "code",
   "execution_count": 61,
   "metadata": {},
   "outputs": [
    {
     "name": "stdout",
     "output_type": "stream",
     "text": [
      "Train:  873\n",
      "Val:  125\n",
      "Test:  250\n"
     ]
    }
   ],
   "source": [
    "train_indices, test_indices = train_test_split(\n",
    "    df.index, \n",
    "    test_size=0.2, \n",
    "    random_state=44\n",
    ")\n",
    "\n",
    "train_indices, val_indices = train_test_split(\n",
    "    train_indices, \n",
    "    test_size=0.125,  # 0.125* 0.8 = 10% \n",
    "    random_state=44\n",
    ")\n",
    "\n",
    "print(\"Train: \", len(train_indices))\n",
    "print(\"Val: \", len(val_indices))\n",
    "print(\"Test: \", len(test_indices))"
   ]
  },
  {
   "cell_type": "code",
   "execution_count": 69,
   "metadata": {},
   "outputs": [],
   "source": [
    "def split_feature_label(df):\n",
    "    X = df.drop(columns=[\"emotion\"])\n",
    "    y = df[\"emotion\"]\n",
    "    return X, y"
   ]
  },
  {
   "cell_type": "markdown",
   "metadata": {},
   "source": [
    "This way of genereting it is done in order to avoid data leakage"
   ]
  },
  {
   "cell_type": "code",
   "execution_count": 71,
   "metadata": {},
   "outputs": [],
   "source": [
    "X_train, y_train = split_feature_label(train_df.iloc[train_indices])\n",
    "X_val, y_val = split_feature_label(train_df.iloc[val_indices])\n",
    "X_test, y_test = split_feature_label(train_df.iloc[test_indices])"
   ]
  },
  {
   "cell_type": "code",
   "execution_count": 72,
   "metadata": {},
   "outputs": [
    {
     "data": {
      "text/plain": [
       "(873, 125, 250)"
      ]
     },
     "execution_count": 72,
     "metadata": {},
     "output_type": "execute_result"
    }
   ],
   "source": [
    "len(X_train), len(X_val), len(X_test)   "
   ]
  },
  {
   "cell_type": "code",
   "execution_count": 73,
   "metadata": {},
   "outputs": [
    {
     "data": {
      "image/png": "[encoded data removed]",
      "text/plain": [
       "<Figure size 640x480 with 1 Axes>"
      ]
     },
     "metadata": {},
     "output_type": "display_data"
    },
    {
     "data": {
      "image/png": "[encoded data removed]",
      "text/plain": [
       "<Figure size 640x480 with 1 Axes>"
      ]
     },
     "metadata": {},
     "output_type": "display_data"
    },
    {
     "data": {
      "image/png": "[encoded data removed]",
      "text/plain": [
       "<Figure size 640x480 with 1 Axes>"
      ]
     },
     "metadata": {},
     "output_type": "display_data"
    }
   ],
   "source": [
    "plot_class_distribution(y_train)\n",
    "plot_class_distribution(y_val)\n",
    "plot_class_distribution(y_test)"
   ]
  },
  {
   "cell_type": "markdown",
   "metadata": {},
   "source": [
    "# Save dataset"
   ]
  },
  {
   "cell_type": "code",
   "execution_count": 75,
   "metadata": {},
   "outputs": [],
   "source": [
    "def save_dataset(X_train, X_val, X_test, y_train, y_val, y_test, output_dir=\"processed_data\"):\n",
    "    os.makedirs(output_dir, exist_ok=True)\n",
    "    np.save(os.path.join(output_dir, \"fe_X_train.npy\"), X_train)\n",
    "    np.save(os.path.join(output_dir, \"fe_X_val.npy\"), X_val)\n",
    "    np.save(os.path.join(output_dir, \"fe_X_test.npy\"), X_test)\n",
    "    np.save(os.path.join(output_dir, \"fe_y_train.npy\"), y_train)\n",
    "    np.save(os.path.join(output_dir, \"fe_y_val.npy\"), y_val)\n",
    "    np.save(os.path.join(output_dir, \"fe_y_test.npy\"), y_test)"
   ]
  },
  {
   "cell_type": "code",
   "execution_count": 76,
   "metadata": {},
   "outputs": [],
   "source": [
    "save_dataset(X_train, X_val, X_test, y_train, y_val, y_test)"
   ]
  }
 ],
 "metadata": {
  "kernelspec": {
   "display_name": ".venv",
   "language": "python",
   "name": "python3"
  },
  "language_info": {
   "codemirror_mode": {
    "name": "ipython",
    "version": 3
   },
   "file_extension": ".py",
   "mimetype": "text/x-python",
   "name": "python",
   "nbconvert_exporter": "python",
   "pygments_lexer": "ipython3",
   "version": "3.11.9"
  }
 },
 "nbformat": 4,
 "nbformat_minor": 2
}
